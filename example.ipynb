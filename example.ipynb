{
 "cells": [
  {
   "cell_type": "markdown",
   "id": "c5da81b3-a4b6-42f3-aca5-614378e366a4",
   "metadata": {},
   "source": [
    "# Examples"
   ]
  },
  {
   "cell_type": "code",
   "execution_count": 1,
   "id": "f1e0337f-8290-42cc-abf9-8d9782770ec7",
   "metadata": {},
   "outputs": [
    {
     "data": {
      "text/plain": [
       "True"
      ]
     },
     "execution_count": 1,
     "metadata": {},
     "output_type": "execute_result"
    }
   ],
   "source": [
    "import os, sys, time, math, glob, json\n",
    "import numpy as np\n",
    "import matplotlib.pyplot as plt \n",
    "%matplotlib inline\n",
    "import seaborn as sns\n",
    "\n",
    "import mdshare\n",
    "import torch\n",
    "\n",
    "import models\n",
    "torch.cuda.is_available()"
   ]
  },
  {
   "cell_type": "code",
   "execution_count": null,
   "id": "371c5d48-0149-48da-a037-da2905c5c598",
   "metadata": {},
   "outputs": [],
   "source": []
  },
  {
   "cell_type": "markdown",
   "id": "cab2b03c-9744-43b0-a35c-ba0d78ae1b42",
   "metadata": {},
   "source": [
    "## Data"
   ]
  },
  {
   "cell_type": "code",
   "execution_count": 2,
   "id": "1fcb9938-d418-4608-8781-dc1a73aa3c5b",
   "metadata": {},
   "outputs": [],
   "source": [
    "## first\n",
    "# data = np.load(mdshare.fetch('alanine-dipeptide-3x250ns-heavy-atom-positions.npz'))[\"arr_0\"]\n",
    "# ref_data = np.load(mdshare.fetch('alanine-dipeptide-3x250ns-backbone-dihedrals.npz'))[\"arr_0\"]\n",
    "\n",
    "## if you installed once\n",
    "data = np.load('alanine-dipeptide-3x250ns-heavy-atom-positions.npz')[\"arr_0\"]\n",
    "ref_data = np.load('alanine-dipeptide-3x250ns-backbone-dihedrals.npz')[\"arr_0\"]\n",
    "\n",
    "n_timesteps, input_dim = data.shape"
   ]
  },
  {
   "cell_type": "code",
   "execution_count": null,
   "id": "9dd8a53d-ec2b-4166-a7bd-0dee779021aa",
   "metadata": {},
   "outputs": [],
   "source": []
  },
  {
   "cell_type": "markdown",
   "id": "34737476-fa5f-4eeb-ad22-c7dcf4432b26",
   "metadata": {},
   "source": [
    "## Models"
   ]
  },
  {
   "cell_type": "code",
   "execution_count": 4,
   "id": "321b2494-f900-4798-8c1b-05542174ff94",
   "metadata": {},
   "outputs": [
    {
     "name": "stdout",
     "output_type": "stream",
     "text": [
      "Train Epoch: [1/1] main:0.7567 MSELoss:0.0630 KLD Loss:0.0000 KLD Transition Loss:0.6937\n"
     ]
    },
    {
     "data": {
      "text/plain": [
       "(250000, 2)"
      ]
     },
     "execution_count": 4,
     "metadata": {},
     "output_type": "execute_result"
    }
   ],
   "source": [
    "lagtime = 1\n",
    "n_epochs = 1\n",
    "m = models.tsTVAE(input_dim, lagtime=lagtime, n_epochs=n_epochs, latent_dim=2, print_every=1)\n",
    "embed = m.fit_transform(data)\n",
    "embed.shape"
   ]
  },
  {
   "cell_type": "code",
   "execution_count": null,
   "id": "1ea51afa-a0e7-461d-9a01-283eab9948bb",
   "metadata": {},
   "outputs": [],
   "source": []
  },
  {
   "cell_type": "code",
   "execution_count": null,
   "id": "2e7afae0-4f69-455e-a5f7-a48a1ea7cfab",
   "metadata": {},
   "outputs": [],
   "source": []
  },
  {
   "cell_type": "code",
   "execution_count": null,
   "id": "80c7ae69-c282-4a3a-bb9f-54f9891a943b",
   "metadata": {},
   "outputs": [],
   "source": []
  }
 ],
 "metadata": {
  "kernelspec": {
   "display_name": "Python 3",
   "language": "python",
   "name": "python3"
  },
  "language_info": {
   "codemirror_mode": {
    "name": "ipython",
    "version": 3
   },
   "file_extension": ".py",
   "mimetype": "text/x-python",
   "name": "python",
   "nbconvert_exporter": "python",
   "pygments_lexer": "ipython3",
   "version": "3.6.15"
  }
 },
 "nbformat": 4,
 "nbformat_minor": 5
}
