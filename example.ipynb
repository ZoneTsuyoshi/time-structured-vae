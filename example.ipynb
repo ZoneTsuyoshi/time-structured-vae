{
 "cells": [
  {
   "cell_type": "markdown",
   "id": "c5da81b3-a4b6-42f3-aca5-614378e366a4",
   "metadata": {},
   "source": [
    "# Examples"
   ]
  },
  {
   "cell_type": "code",
   "execution_count": 1,
   "id": "f1e0337f-8290-42cc-abf9-8d9782770ec7",
   "metadata": {},
   "outputs": [
    {
     "name": "stderr",
     "output_type": "stream",
     "text": [
      "/home/ev50049/anaconda3/envs/mbemma110/lib/python3.6/site-packages/tqdm/auto.py:22: TqdmWarning: IProgress not found. Please update jupyter and ipywidgets. See https://ipywidgets.readthedocs.io/en/stable/user_install.html\n",
      "  from .autonotebook import tqdm as notebook_tqdm\n"
     ]
    },
    {
     "data": {
      "text/plain": [
       "True"
      ]
     },
     "execution_count": 1,
     "metadata": {},
     "output_type": "execute_result"
    }
   ],
   "source": [
    "import os, sys, time, math, glob, json\n",
    "import numpy as np\n",
    "import matplotlib.pyplot as plt \n",
    "%matplotlib inline\n",
    "import seaborn as sns\n",
    "\n",
    "import mdshare\n",
    "import torch\n",
    "\n",
    "import models\n",
    "torch.cuda.is_available()"
   ]
  },
  {
   "cell_type": "code",
   "execution_count": null,
   "id": "371c5d48-0149-48da-a037-da2905c5c598",
   "metadata": {},
   "outputs": [],
   "source": []
  },
  {
   "cell_type": "markdown",
   "id": "cab2b03c-9744-43b0-a35c-ba0d78ae1b42",
   "metadata": {},
   "source": [
    "## Data"
   ]
  },
  {
   "cell_type": "markdown",
   "id": "6d15db0f-ac02-40d5-93bd-202a866c1d4e",
   "metadata": {},
   "source": [
    "### Alanine-dipeptide"
   ]
  },
  {
   "cell_type": "code",
   "execution_count": 2,
   "id": "1fcb9938-d418-4608-8781-dc1a73aa3c5b",
   "metadata": {},
   "outputs": [],
   "source": [
    "## first\n",
    "# data = np.load(mdshare.fetch('alanine-dipeptide-3x250ns-heavy-atom-positions.npz'))[\"arr_0\"]\n",
    "# ref_data = np.load(mdshare.fetch('alanine-dipeptide-3x250ns-backbone-dihedrals.npz'))[\"arr_0\"]\n",
    "\n",
    "## if you installed once\n",
    "data = np.load('alanine-dipeptide-3x250ns-heavy-atom-positions.npz')[\"arr_0\"]\n",
    "ref_data = np.load('alanine-dipeptide-3x250ns-backbone-dihedrals.npz')[\"arr_0\"]\n",
    "\n",
    "n_timesteps, input_dim = data.shape\n",
    "\n",
    "from sklearn import preprocessing\n",
    "preprocessed_data = preprocessing.StandardScaler().fit_transform(data)"
   ]
  },
  {
   "cell_type": "code",
   "execution_count": null,
   "id": "e407fdd2-ea9e-4460-9c83-ab4cd60ea68d",
   "metadata": {},
   "outputs": [],
   "source": []
  },
  {
   "cell_type": "markdown",
   "id": "354fff76-f8cf-45ac-b637-cb2fcd02faa2",
   "metadata": {},
   "source": [
    "### Chignolin"
   ]
  },
  {
   "cell_type": "markdown",
   "id": "0ff8f288-4896-4035-9b9a-c769ce1ccd87",
   "metadata": {},
   "source": [
    "Our chignolin dataset can be obtained via [this link](https://www.dropbox.com/sh/ag8vflw51ne5htj/AAB-e_o2A6dDZ7ZaqFDSmhOGa?dl=0)"
   ]
  },
  {
   "cell_type": "code",
   "execution_count": 4,
   "id": "57f9d08c-629c-460f-afb7-ebb121096c05",
   "metadata": {},
   "outputs": [],
   "source": [
    "import pyemma\n",
    "\n",
    "pdb = \"prot.pdb\"\n",
    "dcd = \"prot5.dcd\"\n",
    "name = dcd.split(\".\")[0]\n",
    "\n",
    "feat = pyemma.coordinates.featurizer(pdb)\n",
    "feat.add_distances_ca()\n",
    "dist_data = pyemma.coordinates.load(dcd, features=feat)\n",
    "edist_data = np.exp(-dist_data)\n",
    "n_timesteps, input_dim = edist_data.shape\n",
    "\n",
    "from sklearn import decomposition\n",
    "pca = decomposition.PCA(n_components=input_dim, whiten=True)\n",
    "preprocessed_data = pca.fit_transform(edist_data)"
   ]
  },
  {
   "cell_type": "code",
   "execution_count": null,
   "id": "9dd8a53d-ec2b-4166-a7bd-0dee779021aa",
   "metadata": {},
   "outputs": [],
   "source": []
  },
  {
   "cell_type": "markdown",
   "id": "34737476-fa5f-4eeb-ad22-c7dcf4432b26",
   "metadata": {},
   "source": [
    "## Models"
   ]
  },
  {
   "cell_type": "code",
   "execution_count": 3,
   "id": "321b2494-f900-4798-8c1b-05542174ff94",
   "metadata": {},
   "outputs": [
    {
     "name": "stdout",
     "output_type": "stream",
     "text": [
      "Train Epoch: [1/10] main:16.0590 MSELoss:14.5558 KLD Loss:0.0000 KLD Transition Loss:1.5033\n",
      "Train Epoch: [2/10] main:14.7661 MSELoss:13.3114 KLD Loss:0.0000 KLD Transition Loss:1.4546\n",
      "Train Epoch: [3/10] main:14.6466 MSELoss:13.2181 KLD Loss:0.0000 KLD Transition Loss:1.4285\n",
      "Train Epoch: [4/10] main:14.6046 MSELoss:13.1772 KLD Loss:0.0000 KLD Transition Loss:1.4274\n",
      "Train Epoch: [5/10] main:14.5782 MSELoss:13.1483 KLD Loss:0.0000 KLD Transition Loss:1.4299\n",
      "Train Epoch: [6/10] main:14.5336 MSELoss:13.1063 KLD Loss:0.0000 KLD Transition Loss:1.4273\n",
      "Train Epoch: [7/10] main:14.5237 MSELoss:13.0992 KLD Loss:0.0000 KLD Transition Loss:1.4245\n",
      "Train Epoch: [8/10] main:14.4944 MSELoss:13.0766 KLD Loss:0.0000 KLD Transition Loss:1.4178\n",
      "Train Epoch: [9/10] main:14.5051 MSELoss:13.0857 KLD Loss:0.0000 KLD Transition Loss:1.4194\n",
      "Train Epoch: [10/10] main:14.4787 MSELoss:13.0666 KLD Loss:0.0000 KLD Transition Loss:1.4122\n"
     ]
    },
    {
     "data": {
      "text/plain": [
       "(250000, 2)"
      ]
     },
     "execution_count": 3,
     "metadata": {},
     "output_type": "execute_result"
    }
   ],
   "source": [
    "m = models.tsTVAE(input_dim, lagtime=1, n_epochs=10, latent_dim=2, print_every=1)\n",
    "embed = m.fit_transform(preprocessed_data)\n",
    "embed.shape"
   ]
  },
  {
   "cell_type": "code",
   "execution_count": null,
   "id": "1ea51afa-a0e7-461d-9a01-283eab9948bb",
   "metadata": {},
   "outputs": [],
   "source": []
  },
  {
   "cell_type": "code",
   "execution_count": null,
   "id": "32e81470-b91c-469b-8c7b-30db46d45c96",
   "metadata": {},
   "outputs": [],
   "source": []
  },
  {
   "cell_type": "markdown",
   "id": "5641a702-2aa2-4f81-9f19-f414a4d64215",
   "metadata": {},
   "source": [
    "## MSM Analysis by PyEMMA"
   ]
  },
  {
   "cell_type": "code",
   "execution_count": 5,
   "id": "47e5ba2a-37c9-4ec2-88ab-0f12779a3fbb",
   "metadata": {},
   "outputs": [
    {
     "name": "stderr",
     "output_type": "stream",
     "text": [
      "initialize kmeans++ centers:   0%|          | 0/100 [00:00<?, ?it/s]\n",
      "100%|██████████| 100/100 [00:09<00:00, 10.84it/s]                            \n",
      "\n",
      "kmeans iterations:   2%|▏         | 1/50 [00:09<07:33,  9.26s/it]\u001b[A\n",
      "100%|██████████| 50/50 [00:09<00:00,  5.38it/s]                  \u001b[A\n",
      "7395it [00:01, 4427.56it/s]                                                                                                           \n",
      "100%|██████████| 100/100 [00:02<00:00, 35.12it/s]                                                                 \n"
     ]
    },
    {
     "data": {
      "text/plain": [
       "PCCA(P=array([[0.02754, 0.00272, ..., 0.00136, 0.01379],\n",
       "       [0.00089, 0.05142, ..., 0.0245 , 0.00051],\n",
       "       ...,\n",
       "       [0.00088, 0.0482 , ..., 0.02636, 0.00037],\n",
       "       [0.03089, 0.00349, ..., 0.0013 , 0.01564]]),\n",
       "   m=4)"
      ]
     },
     "execution_count": 5,
     "metadata": {},
     "output_type": "execute_result"
    }
   ],
   "source": [
    "import pyemma\n",
    "\n",
    "n_clusters = 100\n",
    "stride = 10\n",
    "fixed_seed = 0\n",
    "msm_lagtime = 10\n",
    "n_macrostates = 4\n",
    "\n",
    "cluster = pyemma.coordinates.cluster_kmeans(embed, k=n_clusters, max_iter=50, stride=stride, fixed_seed=fixed_seed)\n",
    "dtrajs_concatenated = np.concatenate(cluster.dtrajs)\n",
    "msm = pyemma.msm.bayesian_markov_model(cluster.dtrajs, lag=msm_lagtime, dt_traj=\"1 ps\")\n",
    "msm.pcca(n_macrostates)"
   ]
  },
  {
   "cell_type": "code",
   "execution_count": 6,
   "id": "1c1db9bd-8d95-430b-9527-54ad71e44314",
   "metadata": {},
   "outputs": [
    {
     "data": {
      "text/plain": [
       "Text(0, 0.5, '$z_2$')"
      ]
     },
     "execution_count": 6,
     "metadata": {},
     "output_type": "execute_result"
    },
    {
     "data": {
      "image/png": "[encoded data removed]",
      "text/plain": [
       "<Figure size 432x288 with 2 Axes>"
      ]
     },
     "metadata": {
      "needs_background": "light"
     },
     "output_type": "display_data"
    }
   ],
   "source": [
    "fig, ax, _ = pyemma.plots.plot_contour(*embed[:,:2].T, msm.pi[dtrajs_concatenated], \n",
    "                                      cbar_label='stationary_distribution', method='nearest', mask=True)\n",
    "ax.scatter(*cluster.clustercenters.T, s=15, c='C1')\n",
    "ax.set_xlabel(r'$z_1$')\n",
    "ax.set_ylabel(r'$z_2$')"
   ]
  },
  {
   "cell_type": "code",
   "execution_count": 7,
   "id": "9d2325b4-f44e-4bcb-bc64-7e08dd59c8c2",
   "metadata": {},
   "outputs": [
    {
     "data": {
      "text/plain": [
       "Text(0, 0.5, '$\\\\psi$')"
      ]
     },
     "execution_count": 7,
     "metadata": {},
     "output_type": "execute_result"
    },
    {
     "data": {
      "image/png": "[encoded data removed]",
      "text/plain": [
       "<Figure size 720x288 with 4 Axes>"
      ]
     },
     "metadata": {
      "needs_background": "light"
     },
     "output_type": "display_data"
    }
   ],
   "source": [
    "n_states = 4; title_list = [\"embed\", r\"$(\\phi,\\psi)$\"]\n",
    "metastable_traj = msm.metastable_assignments[dtrajs_concatenated]\n",
    "fig, ax = plt.subplots(1,2,figsize=(10,4))\n",
    "fs=12\n",
    "for i, d in enumerate([embed, ref_data]):\n",
    "    _, _, misc = pyemma.plots.plot_state_map(*d[:,:2].T, metastable_traj, ax=ax[i])\n",
    "    misc['cbar'].set_ticklabels([r'$\\mathcal{S}_%d$'%(k+1) for k in range(n_macrostates)])\n",
    "ax[0].set_xlabel(r\"$z_1$\", fontsize=fs)\n",
    "ax[0].set_ylabel(r\"$z_2$\", fontsize=fs)\n",
    "ax[1].set_xlabel(r\"$\\phi$\", fontsize=fs)\n",
    "ax[1].set_ylabel(r\"$\\psi$\", fontsize=fs)"
   ]
  },
  {
   "cell_type": "code",
   "execution_count": 8,
   "id": "f6b8821e-7f81-4e2c-94a7-497e02901e9b",
   "metadata": {},
   "outputs": [
    {
     "name": "stderr",
     "output_type": "stream",
     "text": [
      "100%|██████████| 6/6 [00:08<00:00,  1.37s/it]                        \n"
     ]
    },
    {
     "data": {
      "text/plain": [
       "<AxesSubplot:xlabel='lag time / ps', ylabel='timescale / ps'>"
      ]
     },
     "execution_count": 8,
     "metadata": {},
     "output_type": "execute_result"
    },
    {
     "data": {
      "image/png": "[encoded data removed]",
      "text/plain": [
       "<Figure size 360x360 with 1 Axes>"
      ]
     },
     "metadata": {
      "needs_background": "light"
     },
     "output_type": "display_data"
    }
   ],
   "source": [
    "its = pyemma.msm.its(cluster.dtrajs, lags=[1,2,5,10,20,50], nits=n_macrostates, errors='bayes')\n",
    "fig, ax = plt.subplots(1,1,figsize=(5,5))\n",
    "pyemma.plots.plot_implied_timescales(its, ax=ax, units='ps')"
   ]
  },
  {
   "cell_type": "code",
   "execution_count": null,
   "id": "1eb56616-b3bf-42ff-aa99-5e9b3f39ffe9",
   "metadata": {},
   "outputs": [],
   "source": []
  },
  {
   "cell_type": "code",
   "execution_count": null,
   "id": "3c099d65-a573-4bb2-990f-1d1423bb7eec",
   "metadata": {},
   "outputs": [],
   "source": []
  },
  {
   "cell_type": "markdown",
   "id": "899c505f-4652-40bb-b166-8e363a84315a",
   "metadata": {
    "jp-MarkdownHeadingCollapsed": true,
    "tags": []
   },
   "source": [
    "## MSM Analysis by MSMBuilder"
   ]
  },
  {
   "cell_type": "code",
   "execution_count": 5,
   "id": "5e9196ef-6f44-4d8f-9655-6bbcc37dc7c9",
   "metadata": {},
   "outputs": [
    {
     "name": "stdout",
     "output_type": "stream",
     "text": [
      "MSM contains 1 strongly connected component above weight=0.10. Component 0 selected, with population 100.000000%\n"
     ]
    },
    {
     "data": {
      "text/plain": [
       "MarkovStateModel(ergodic_cutoff='on', lag_time=10, n_timescales=3,\n",
       "         prior_counts=0, reversible_type='mle', sliding_window=True,\n",
       "         verbose=True)"
      ]
     },
     "execution_count": 5,
     "metadata": {},
     "output_type": "execute_result"
    }
   ],
   "source": [
    "# from msmbuilder.cluster import MiniBatchKMeans\n",
    "# from msmbuilder.msm import MarkovStateModel\n",
    "\n",
    "# n_clusters = 100\n",
    "# clusterer = MiniBatchKMeans(n_clusters=n_clusters, random_state=42)\n",
    "# clustered_trajs = clusterer.fit_transform([embed])\n",
    "\n",
    "# msm_lagtime = 10\n",
    "# n_timescales = 3\n",
    "# msm = MarkovStateModel(lag_time=msm_lagtime, n_timescales=n_timescales)\n",
    "# msm.fit(clustered_trajs)"
   ]
  },
  {
   "cell_type": "code",
   "execution_count": 6,
   "id": "350702b8-9e2b-462b-9826-359694f5ed32",
   "metadata": {},
   "outputs": [
    {
     "ename": "ModuleNotFoundError",
     "evalue": "No module named 'msmexplorer'",
     "output_type": "error",
     "traceback": [
      "\u001b[0;31m---------------------------------------------------------------------------\u001b[0m",
      "\u001b[0;31mModuleNotFoundError\u001b[0m                       Traceback (most recent call last)",
      "\u001b[0;32m<ipython-input-6-693724ddc653>\u001b[0m in \u001b[0;36m<module>\u001b[0;34m\u001b[0m\n\u001b[0;32m----> 1\u001b[0;31m \u001b[0;32mimport\u001b[0m \u001b[0mmsmexplorer\u001b[0m \u001b[0;32mas\u001b[0m \u001b[0mmsme\u001b[0m\u001b[0;34m\u001b[0m\u001b[0;34m\u001b[0m\u001b[0m\n\u001b[0m\u001b[1;32m      2\u001b[0m \u001b[0;34m\u001b[0m\u001b[0m\n\u001b[1;32m      3\u001b[0m \u001b[0massignments\u001b[0m \u001b[0;34m=\u001b[0m \u001b[0mclusterer\u001b[0m\u001b[0;34m.\u001b[0m\u001b[0mpartial_transform\u001b[0m\u001b[0;34m(\u001b[0m\u001b[0membed\u001b[0m\u001b[0;34m)\u001b[0m\u001b[0;34m\u001b[0m\u001b[0;34m\u001b[0m\u001b[0m\n\u001b[1;32m      4\u001b[0m \u001b[0massignments\u001b[0m \u001b[0;34m=\u001b[0m \u001b[0mmsm\u001b[0m\u001b[0;34m.\u001b[0m\u001b[0mpartial_transform\u001b[0m\u001b[0;34m(\u001b[0m\u001b[0massignments\u001b[0m\u001b[0;34m)\u001b[0m\u001b[0;34m\u001b[0m\u001b[0;34m\u001b[0m\u001b[0m\n\u001b[1;32m      5\u001b[0m msme.plot_free_energy(embed, obs=(0, 1), n_samples=10000,\n",
      "\u001b[0;31mModuleNotFoundError\u001b[0m: No module named 'msmexplorer'"
     ]
    }
   ],
   "source": [
    "# import msmexplorer as msme\n",
    "\n",
    "# assignments = clusterer.partial_transform(embed)\n",
    "# assignments = msm.partial_transform(assignments)\n",
    "# msme.plot_free_energy(embed, obs=(0, 1), n_samples=10000,\n",
    "#                       pi=msm.populations_[assignments],\n",
    "#                       xlabel='z1', ylabel='z2')\n",
    "# plt.scatter(clusterer.cluster_centers_[msm.state_labels_, 0],\n",
    "#             clusterer.cluster_centers_[msm.state_labels_, 1],\n",
    "#             s=1e4 * msm.populations_,       # size by population\n",
    "#             c=msm.left_eigenvectors_[:, 1], # color by eigenvector\n",
    "#             cmap=\"coolwarm\",\n",
    "#             zorder=3) \n",
    "# plt.colorbar(label='First dynamical eigenvector')\n",
    "# plt.tight_layout()"
   ]
  },
  {
   "cell_type": "code",
   "execution_count": null,
   "id": "aa64c56d-8373-4433-a370-4d55fe37304d",
   "metadata": {},
   "outputs": [],
   "source": []
  },
  {
   "cell_type": "code",
   "execution_count": null,
   "id": "80c7ae69-c282-4a3a-bb9f-54f9891a943b",
   "metadata": {},
   "outputs": [],
   "source": []
  }
 ],
 "metadata": {
  "kernelspec": {
   "display_name": "Python 3 (ipykernel)",
   "language": "python",
   "name": "python3"
  },
  "language_info": {
   "codemirror_mode": {
    "name": "ipython",
    "version": 3
   },
   "file_extension": ".py",
   "mimetype": "text/x-python",
   "name": "python",
   "nbconvert_exporter": "python",
   "pygments_lexer": "ipython3",
   "version": "3.6.15"
  }
 },
 "nbformat": 4,
 "nbformat_minor": 5
}
